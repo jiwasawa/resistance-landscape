{
 "cells": [
  {
   "cell_type": "code",
   "execution_count": 1,
   "metadata": {
    "scrolled": true
   },
   "outputs": [],
   "source": [
    "import numpy as np\n",
    "import matplotlib.pyplot as plt\n",
    "import pandas as pd\n",
    "import os\n",
    "\n",
    "day_num = 10\n",
    "x = np.linspace(1,24,24)\n",
    "\n",
    "\n",
    "try:\n",
    "    os.mkdir('./plots/')\n",
    "except FileExistsError:\n",
    "    print('directory already existed')\n",
    "\n",
    "try:\n",
    "    os.mkdir('./plots/individual/')\n",
    "except FileExistsError:\n",
    "    print('directory already existed')\n",
    "    \n",
    "plate_info = pd.read_excel('./../PlateType_201907_matching_30plates_TimeSeries.xlsx',index_col=0)\n",
    "\n",
    "def plot_OD(strain_list,strain_name,tw_list,transfer,plate_num,file_num,day=str(day_num)):\n",
    "        plt.subplots(4,2,figsize=(16,24))\n",
    "        \n",
    "        plt.subplot(4,2,1)\n",
    "        for i in strain_list:\n",
    "            df = pd.read_csv('./OD_data/OD_Result_'+day+'_'+str(i)+'.csv',\n",
    "                             usecols=(3,5),index_col=0).iloc[:384,:]\n",
    "            plt.plot(x,df[df.index.str.contains('A')])\n",
    "            plt.plot(x,df[df.index.str.contains('B')])\n",
    "            if transfer=='TET':\n",
    "                for tw in tw_list:\n",
    "                    plt.plot(tw*np.ones(100),np.linspace(0.04,0.2,100),color='gray',alpha=0.3)\n",
    "        plt.ylim(0.025,0.23)\n",
    "        plt.title(strain_name+' in TET, plate_num = '+str(plate_num))\n",
    "\n",
    "        plt.subplot(4,2,2)\n",
    "        for i in strain_list:\n",
    "            df = pd.read_csv('./OD_data/OD_Result_'+day+'_'+str(i)+'.csv',\n",
    "                             usecols=(3,5),index_col=0).iloc[:384,:]\n",
    "            plt.plot(x,df[df.index.str.contains('C')])\n",
    "            plt.plot(x,df[df.index.str.contains('D')])\n",
    "            if transfer=='KM':\n",
    "                for tw in tw_list:\n",
    "                    plt.plot(tw*np.ones(100),np.linspace(0.04,0.2,100),color='gray',alpha=0.3)\n",
    "        plt.ylim(0.025,0.23)\n",
    "        plt.title(strain_name+' in KM, plate_num = '+str(plate_num))\n",
    "        \n",
    "        plt.subplot(4,2,3)\n",
    "        for i in strain_list:\n",
    "            df = pd.read_csv('./OD_data/OD_Result_'+day+'_'+str(i)+'.csv',\n",
    "                             usecols=(3,5),index_col=0).iloc[:384,:]\n",
    "            plt.plot(x,df[df.index.str.contains('E')])\n",
    "            plt.plot(x,df[df.index.str.contains('F')])\n",
    "            if transfer=='NFLX':\n",
    "                for tw in tw_list:\n",
    "                    plt.plot(tw*np.ones(100),np.linspace(0.04,0.2,100),color='gray',alpha=0.3)\n",
    "        plt.ylim(0.025,0.23)            \n",
    "        plt.title(strain_name+' in NFLX, plate_num = '+str(plate_num))\n",
    "        \n",
    "        plt.subplot(4,2,4)\n",
    "        for i in strain_list:\n",
    "            df = pd.read_csv('./OD_data/OD_Result_'+day+'_'+str(i)+'.csv',\n",
    "                             usecols=(3,5),index_col=0).iloc[:384,:]\n",
    "            plt.plot(x,df[df.index.str.contains('G')])\n",
    "            plt.plot(x,df[df.index.str.contains('H')])\n",
    "        plt.ylim(0.025,0.23)\n",
    "        plt.title(strain_name+' in SS, plate_num = '+str(plate_num))\n",
    "        \n",
    "        plt.subplot(4,2,5)\n",
    "        for i in strain_list:\n",
    "            df = pd.read_csv('./OD_data/OD_Result_'+day+'_'+str(i)+'.csv',\n",
    "                             usecols=(3,5),index_col=0).iloc[:384,:]\n",
    "            plt.plot(x,df[df.index.str.contains('I')])\n",
    "            plt.plot(x,df[df.index.str.contains('J')])\n",
    "        plt.ylim(0.025,0.23)\n",
    "        plt.title(strain_name+' in PLM, plate_num = '+str(plate_num))\n",
    "        \n",
    "        plt.subplot(4,2,6)\n",
    "        for i in strain_list:\n",
    "            df = pd.read_csv('./OD_data/OD_Result_'+day+'_'+str(i)+'.csv',\n",
    "                             usecols=(3,5),index_col=0).iloc[:384,:]\n",
    "            plt.plot(x,df[df.index.str.contains('K')])\n",
    "            plt.plot(x,df[df.index.str.contains('L')])\n",
    "        plt.ylim(0.025,0.23)\n",
    "        plt.title(strain_name+' in NQO, plate_num = '+str(plate_num))\n",
    "        \n",
    "        plt.subplot(4,2,7)\n",
    "        for i in strain_list:\n",
    "            df = pd.read_csv('./OD_data/OD_Result_'+day+'_'+str(i)+'.csv',\n",
    "                             usecols=(3,5),index_col=0).iloc[:384,:]\n",
    "            plt.plot(x,df[df.index.str.contains('M')])\n",
    "            plt.plot(x,df[df.index.str.contains('N')])\n",
    "        plt.ylim(0.025,0.23)\n",
    "        plt.title(strain_name+' in SDC, plate_num = '+str(plate_num))\n",
    "        \n",
    "        plt.subplot(4,2,8)\n",
    "        for i in strain_list:\n",
    "            df = pd.read_csv('./OD_data/OD_Result_'+day+'_'+str(i)+'.csv',\n",
    "                             usecols=(3,5),index_col=0).iloc[:384,:]\n",
    "            plt.plot(x,df[df.index.str.contains('O')])\n",
    "            plt.plot(x,df[df.index.str.contains('P')])\n",
    "        plt.ylim(0.025,0.23)\n",
    "        plt.title(strain_name+' in MMC, plate_num = '+str(plate_num))\n",
    "        \n",
    "        plt.savefig('./plots/individual/'+str(file_num)+'.pdf',dpi=50,bbox_inches='tight')"
   ]
  },
  {
   "cell_type": "code",
   "execution_count": 2,
   "metadata": {
    "scrolled": true
   },
   "outputs": [
    {
     "ename": "FileNotFoundError",
     "evalue": "File b'./OD_data/OD_Result_010_01.csv' does not exist",
     "output_type": "error",
     "traceback": [
      "\u001b[0;31m---------------------------------------------------------------------------\u001b[0m",
      "\u001b[0;31mFileNotFoundError\u001b[0m                         Traceback (most recent call last)",
      "\u001b[0;32m<ipython-input-2-f29404de3302>\u001b[0m in \u001b[0;36m<module>\u001b[0;34m()\u001b[0m\n\u001b[1;32m      9\u001b[0m \u001b[0;34m\u001b[0m\u001b[0m\n\u001b[1;32m     10\u001b[0m \u001b[0mplate_type\u001b[0m \u001b[0;34m=\u001b[0m \u001b[0mint\u001b[0m\u001b[0;34m(\u001b[0m\u001b[0mplate_info\u001b[0m\u001b[0;34m.\u001b[0m\u001b[0mloc\u001b[0m\u001b[0;34m[\u001b[0m\u001b[0mint\u001b[0m\u001b[0;34m(\u001b[0m\u001b[0mstrain_list\u001b[0m\u001b[0;34m[\u001b[0m\u001b[0;36m0\u001b[0m\u001b[0;34m]\u001b[0m\u001b[0;34m)\u001b[0m\u001b[0;34m]\u001b[0m\u001b[0;34m.\u001b[0m\u001b[0miloc\u001b[0m\u001b[0;34m[\u001b[0m\u001b[0mday_num\u001b[0m\u001b[0;34m-\u001b[0m\u001b[0;36m1\u001b[0m\u001b[0;34m]\u001b[0m\u001b[0;34m)\u001b[0m\u001b[0;34m\u001b[0m\u001b[0m\n\u001b[0;32m---> 11\u001b[0;31m \u001b[0mplot_OD\u001b[0m\u001b[0;34m(\u001b[0m\u001b[0mstrain_list\u001b[0m\u001b[0;34m,\u001b[0m\u001b[0mstrain_name\u001b[0m\u001b[0;34m,\u001b[0m\u001b[0mtw_list\u001b[0m\u001b[0;34m,\u001b[0m\u001b[0mtransfer\u001b[0m\u001b[0;34m=\u001b[0m\u001b[0mtransfer\u001b[0m\u001b[0;34m,\u001b[0m\u001b[0mplate_num\u001b[0m\u001b[0;34m=\u001b[0m\u001b[0mplate_type\u001b[0m\u001b[0;34m,\u001b[0m\u001b[0mfile_num\u001b[0m\u001b[0;34m=\u001b[0m\u001b[0mstrain_list\u001b[0m\u001b[0;34m[\u001b[0m\u001b[0;36m0\u001b[0m\u001b[0;34m]\u001b[0m\u001b[0;34m)\u001b[0m\u001b[0;34m\u001b[0m\u001b[0m\n\u001b[0m",
      "\u001b[0;32m<ipython-input-1-e2390b4ccd70>\u001b[0m in \u001b[0;36mplot_OD\u001b[0;34m(strain_list, strain_name, tw_list, transfer, plate_num, file_num, day)\u001b[0m\n\u001b[1;32m     26\u001b[0m         \u001b[0;32mfor\u001b[0m \u001b[0mi\u001b[0m \u001b[0;32min\u001b[0m \u001b[0mstrain_list\u001b[0m\u001b[0;34m:\u001b[0m\u001b[0;34m\u001b[0m\u001b[0m\n\u001b[1;32m     27\u001b[0m             df = pd.read_csv('./OD_data/OD_Result_0'+day+'_'+str(i)+'.csv',\n\u001b[0;32m---> 28\u001b[0;31m                              usecols=(3,5),index_col=0).iloc[:384,:]\n\u001b[0m\u001b[1;32m     29\u001b[0m             \u001b[0mplt\u001b[0m\u001b[0;34m.\u001b[0m\u001b[0mplot\u001b[0m\u001b[0;34m(\u001b[0m\u001b[0mx\u001b[0m\u001b[0;34m,\u001b[0m\u001b[0mdf\u001b[0m\u001b[0;34m[\u001b[0m\u001b[0mdf\u001b[0m\u001b[0;34m.\u001b[0m\u001b[0mindex\u001b[0m\u001b[0;34m.\u001b[0m\u001b[0mstr\u001b[0m\u001b[0;34m.\u001b[0m\u001b[0mcontains\u001b[0m\u001b[0;34m(\u001b[0m\u001b[0;34m'A'\u001b[0m\u001b[0;34m)\u001b[0m\u001b[0;34m]\u001b[0m\u001b[0;34m)\u001b[0m\u001b[0;34m\u001b[0m\u001b[0m\n\u001b[1;32m     30\u001b[0m             \u001b[0mplt\u001b[0m\u001b[0;34m.\u001b[0m\u001b[0mplot\u001b[0m\u001b[0;34m(\u001b[0m\u001b[0mx\u001b[0m\u001b[0;34m,\u001b[0m\u001b[0mdf\u001b[0m\u001b[0;34m[\u001b[0m\u001b[0mdf\u001b[0m\u001b[0;34m.\u001b[0m\u001b[0mindex\u001b[0m\u001b[0;34m.\u001b[0m\u001b[0mstr\u001b[0m\u001b[0;34m.\u001b[0m\u001b[0mcontains\u001b[0m\u001b[0;34m(\u001b[0m\u001b[0;34m'B'\u001b[0m\u001b[0;34m)\u001b[0m\u001b[0;34m]\u001b[0m\u001b[0;34m)\u001b[0m\u001b[0;34m\u001b[0m\u001b[0m\n",
      "\u001b[0;32m/anaconda3/lib/python3.7/site-packages/pandas/io/parsers.py\u001b[0m in \u001b[0;36mparser_f\u001b[0;34m(filepath_or_buffer, sep, delimiter, header, names, index_col, usecols, squeeze, prefix, mangle_dupe_cols, dtype, engine, converters, true_values, false_values, skipinitialspace, skiprows, nrows, na_values, keep_default_na, na_filter, verbose, skip_blank_lines, parse_dates, infer_datetime_format, keep_date_col, date_parser, dayfirst, iterator, chunksize, compression, thousands, decimal, lineterminator, quotechar, quoting, escapechar, comment, encoding, dialect, tupleize_cols, error_bad_lines, warn_bad_lines, skipfooter, doublequote, delim_whitespace, low_memory, memory_map, float_precision)\u001b[0m\n\u001b[1;32m    676\u001b[0m                     skip_blank_lines=skip_blank_lines)\n\u001b[1;32m    677\u001b[0m \u001b[0;34m\u001b[0m\u001b[0m\n\u001b[0;32m--> 678\u001b[0;31m         \u001b[0;32mreturn\u001b[0m \u001b[0m_read\u001b[0m\u001b[0;34m(\u001b[0m\u001b[0mfilepath_or_buffer\u001b[0m\u001b[0;34m,\u001b[0m \u001b[0mkwds\u001b[0m\u001b[0;34m)\u001b[0m\u001b[0;34m\u001b[0m\u001b[0m\n\u001b[0m\u001b[1;32m    679\u001b[0m \u001b[0;34m\u001b[0m\u001b[0m\n\u001b[1;32m    680\u001b[0m     \u001b[0mparser_f\u001b[0m\u001b[0;34m.\u001b[0m\u001b[0m__name__\u001b[0m \u001b[0;34m=\u001b[0m \u001b[0mname\u001b[0m\u001b[0;34m\u001b[0m\u001b[0m\n",
      "\u001b[0;32m/anaconda3/lib/python3.7/site-packages/pandas/io/parsers.py\u001b[0m in \u001b[0;36m_read\u001b[0;34m(filepath_or_buffer, kwds)\u001b[0m\n\u001b[1;32m    438\u001b[0m \u001b[0;34m\u001b[0m\u001b[0m\n\u001b[1;32m    439\u001b[0m     \u001b[0;31m# Create the parser.\u001b[0m\u001b[0;34m\u001b[0m\u001b[0;34m\u001b[0m\u001b[0m\n\u001b[0;32m--> 440\u001b[0;31m     \u001b[0mparser\u001b[0m \u001b[0;34m=\u001b[0m \u001b[0mTextFileReader\u001b[0m\u001b[0;34m(\u001b[0m\u001b[0mfilepath_or_buffer\u001b[0m\u001b[0;34m,\u001b[0m \u001b[0;34m**\u001b[0m\u001b[0mkwds\u001b[0m\u001b[0;34m)\u001b[0m\u001b[0;34m\u001b[0m\u001b[0m\n\u001b[0m\u001b[1;32m    441\u001b[0m \u001b[0;34m\u001b[0m\u001b[0m\n\u001b[1;32m    442\u001b[0m     \u001b[0;32mif\u001b[0m \u001b[0mchunksize\u001b[0m \u001b[0;32mor\u001b[0m \u001b[0miterator\u001b[0m\u001b[0;34m:\u001b[0m\u001b[0;34m\u001b[0m\u001b[0m\n",
      "\u001b[0;32m/anaconda3/lib/python3.7/site-packages/pandas/io/parsers.py\u001b[0m in \u001b[0;36m__init__\u001b[0;34m(self, f, engine, **kwds)\u001b[0m\n\u001b[1;32m    785\u001b[0m             \u001b[0mself\u001b[0m\u001b[0;34m.\u001b[0m\u001b[0moptions\u001b[0m\u001b[0;34m[\u001b[0m\u001b[0;34m'has_index_names'\u001b[0m\u001b[0;34m]\u001b[0m \u001b[0;34m=\u001b[0m \u001b[0mkwds\u001b[0m\u001b[0;34m[\u001b[0m\u001b[0;34m'has_index_names'\u001b[0m\u001b[0;34m]\u001b[0m\u001b[0;34m\u001b[0m\u001b[0m\n\u001b[1;32m    786\u001b[0m \u001b[0;34m\u001b[0m\u001b[0m\n\u001b[0;32m--> 787\u001b[0;31m         \u001b[0mself\u001b[0m\u001b[0;34m.\u001b[0m\u001b[0m_make_engine\u001b[0m\u001b[0;34m(\u001b[0m\u001b[0mself\u001b[0m\u001b[0;34m.\u001b[0m\u001b[0mengine\u001b[0m\u001b[0;34m)\u001b[0m\u001b[0;34m\u001b[0m\u001b[0m\n\u001b[0m\u001b[1;32m    788\u001b[0m \u001b[0;34m\u001b[0m\u001b[0m\n\u001b[1;32m    789\u001b[0m     \u001b[0;32mdef\u001b[0m \u001b[0mclose\u001b[0m\u001b[0;34m(\u001b[0m\u001b[0mself\u001b[0m\u001b[0;34m)\u001b[0m\u001b[0;34m:\u001b[0m\u001b[0;34m\u001b[0m\u001b[0m\n",
      "\u001b[0;32m/anaconda3/lib/python3.7/site-packages/pandas/io/parsers.py\u001b[0m in \u001b[0;36m_make_engine\u001b[0;34m(self, engine)\u001b[0m\n\u001b[1;32m   1012\u001b[0m     \u001b[0;32mdef\u001b[0m \u001b[0m_make_engine\u001b[0m\u001b[0;34m(\u001b[0m\u001b[0mself\u001b[0m\u001b[0;34m,\u001b[0m \u001b[0mengine\u001b[0m\u001b[0;34m=\u001b[0m\u001b[0;34m'c'\u001b[0m\u001b[0;34m)\u001b[0m\u001b[0;34m:\u001b[0m\u001b[0;34m\u001b[0m\u001b[0m\n\u001b[1;32m   1013\u001b[0m         \u001b[0;32mif\u001b[0m \u001b[0mengine\u001b[0m \u001b[0;34m==\u001b[0m \u001b[0;34m'c'\u001b[0m\u001b[0;34m:\u001b[0m\u001b[0;34m\u001b[0m\u001b[0m\n\u001b[0;32m-> 1014\u001b[0;31m             \u001b[0mself\u001b[0m\u001b[0;34m.\u001b[0m\u001b[0m_engine\u001b[0m \u001b[0;34m=\u001b[0m \u001b[0mCParserWrapper\u001b[0m\u001b[0;34m(\u001b[0m\u001b[0mself\u001b[0m\u001b[0;34m.\u001b[0m\u001b[0mf\u001b[0m\u001b[0;34m,\u001b[0m \u001b[0;34m**\u001b[0m\u001b[0mself\u001b[0m\u001b[0;34m.\u001b[0m\u001b[0moptions\u001b[0m\u001b[0;34m)\u001b[0m\u001b[0;34m\u001b[0m\u001b[0m\n\u001b[0m\u001b[1;32m   1015\u001b[0m         \u001b[0;32melse\u001b[0m\u001b[0;34m:\u001b[0m\u001b[0;34m\u001b[0m\u001b[0m\n\u001b[1;32m   1016\u001b[0m             \u001b[0;32mif\u001b[0m \u001b[0mengine\u001b[0m \u001b[0;34m==\u001b[0m \u001b[0;34m'python'\u001b[0m\u001b[0;34m:\u001b[0m\u001b[0;34m\u001b[0m\u001b[0m\n",
      "\u001b[0;32m/anaconda3/lib/python3.7/site-packages/pandas/io/parsers.py\u001b[0m in \u001b[0;36m__init__\u001b[0;34m(self, src, **kwds)\u001b[0m\n\u001b[1;32m   1706\u001b[0m         \u001b[0mkwds\u001b[0m\u001b[0;34m[\u001b[0m\u001b[0;34m'usecols'\u001b[0m\u001b[0;34m]\u001b[0m \u001b[0;34m=\u001b[0m \u001b[0mself\u001b[0m\u001b[0;34m.\u001b[0m\u001b[0musecols\u001b[0m\u001b[0;34m\u001b[0m\u001b[0m\n\u001b[1;32m   1707\u001b[0m \u001b[0;34m\u001b[0m\u001b[0m\n\u001b[0;32m-> 1708\u001b[0;31m         \u001b[0mself\u001b[0m\u001b[0;34m.\u001b[0m\u001b[0m_reader\u001b[0m \u001b[0;34m=\u001b[0m \u001b[0mparsers\u001b[0m\u001b[0;34m.\u001b[0m\u001b[0mTextReader\u001b[0m\u001b[0;34m(\u001b[0m\u001b[0msrc\u001b[0m\u001b[0;34m,\u001b[0m \u001b[0;34m**\u001b[0m\u001b[0mkwds\u001b[0m\u001b[0;34m)\u001b[0m\u001b[0;34m\u001b[0m\u001b[0m\n\u001b[0m\u001b[1;32m   1709\u001b[0m \u001b[0;34m\u001b[0m\u001b[0m\n\u001b[1;32m   1710\u001b[0m         \u001b[0mpassed_names\u001b[0m \u001b[0;34m=\u001b[0m \u001b[0mself\u001b[0m\u001b[0;34m.\u001b[0m\u001b[0mnames\u001b[0m \u001b[0;32mis\u001b[0m \u001b[0;32mNone\u001b[0m\u001b[0;34m\u001b[0m\u001b[0m\n",
      "\u001b[0;32mpandas/_libs/parsers.pyx\u001b[0m in \u001b[0;36mpandas._libs.parsers.TextReader.__cinit__\u001b[0;34m()\u001b[0m\n",
      "\u001b[0;32mpandas/_libs/parsers.pyx\u001b[0m in \u001b[0;36mpandas._libs.parsers.TextReader._setup_parser_source\u001b[0;34m()\u001b[0m\n",
      "\u001b[0;31mFileNotFoundError\u001b[0m: File b'./OD_data/OD_Result_010_01.csv' does not exist"
     ]
    },
    {
     "data": {
      "image/png": "[encoded data removed]",
      "text/plain": [
       "<Figure size 1152x1728 with 8 Axes>"
      ]
     },
     "metadata": {
      "needs_background": "light"
     },
     "output_type": "display_data"
    }
   ],
   "source": [
    "strain_list = ['01']\n",
    "strain_name = 'Parent'\n",
    "transfer = 'TET'\n",
    "\n",
    "# loc of transferred well\n",
    "tw1 = pd.read_csv('./transferred_well/transfer1_1.csv').iloc[day_num-1,0]  \n",
    "tw2 = pd.read_csv('./transferred_well/transfer1_9.csv').iloc[day_num-1,0]\n",
    "tw_list = [tw1,tw2]\n",
    "\n",
    "plate_type = int(plate_info.loc[int(strain_list[0])].iloc[day_num-1])\n",
    "plot_OD(strain_list,strain_name,tw_list,transfer=transfer,plate_num=plate_type,file_num=strain_list[0])"
   ]
  },
  {
   "cell_type": "code",
   "execution_count": null,
   "metadata": {
    "scrolled": true
   },
   "outputs": [],
   "source": [
    "strain_list = ['02']\n",
    "strain_name = 'Parent'\n",
    "transfer = 'TET'\n",
    "\n",
    "# loc of transferred well\n",
    "tw3 = pd.read_csv('./transferred_well/transfer2_1.csv').iloc[day_num-1,0]\n",
    "tw4 = pd.read_csv('./transferred_well/transfer2_9.csv').iloc[day_num-1,0]\n",
    "tw_list = [tw3,tw4]\n",
    "\n",
    "plate_type = int(plate_info.loc[int(strain_list[0])].iloc[day_num-1])\n",
    "plot_OD(strain_list,strain_name,tw_list,transfer=transfer,plate_num=plate_type,file_num=strain_list[0])"
   ]
  },
  {
   "cell_type": "code",
   "execution_count": null,
   "metadata": {
    "scrolled": true
   },
   "outputs": [],
   "source": [
    "x = np.linspace(1,24,24)\n",
    "strain_list = ['03']\n",
    "strain_name = 'KME1'\n",
    "transfer = 'TET'\n",
    "\n",
    "# loc of transferred well\n",
    "tw1 = pd.read_csv('./transferred_well/transfer3_1.csv').iloc[day_num-1,0]  \n",
    "tw2 = pd.read_csv('./transferred_well/transfer3_9.csv').iloc[day_num-1,0]\n",
    "tw_list = [tw1,tw2]\n",
    "\n",
    "plate_type = int(plate_info.loc[int(strain_list[0])].iloc[day_num-1])\n",
    "plot_OD(strain_list,strain_name,tw_list,transfer=transfer,plate_num=plate_type,file_num=strain_list[0])"
   ]
  },
  {
   "cell_type": "code",
   "execution_count": null,
   "metadata": {
    "scrolled": true
   },
   "outputs": [],
   "source": [
    "x = np.linspace(1,24,24)\n",
    "strain_list = ['04']\n",
    "strain_name = 'KME1'\n",
    "transfer = 'TET'\n",
    "\n",
    "# loc of transferred well\n",
    "tw3 = pd.read_csv('./transferred_well/transfer4_1.csv').iloc[day_num-1,0]\n",
    "tw4 = pd.read_csv('./transferred_well/transfer4_9.csv').iloc[day_num-1,0]\n",
    "tw_list = [tw3,tw4]\n",
    "\n",
    "plate_type = int(plate_info.loc[int(strain_list[0])].iloc[day_num-1])\n",
    "plot_OD(strain_list,strain_name,tw_list,transfer=transfer,plate_num=plate_type,file_num=strain_list[0])"
   ]
  },
  {
   "cell_type": "code",
   "execution_count": null,
   "metadata": {
    "scrolled": true
   },
   "outputs": [],
   "source": [
    "x = np.linspace(1,24,24)\n",
    "strain_list = ['05']\n",
    "strain_name = 'KME5'\n",
    "transfer = 'TET'\n",
    "\n",
    "# loc of transferred well\n",
    "tw1 = pd.read_csv('./transferred_well/transfer5_1.csv').iloc[day_num-1,0]  \n",
    "tw2 = pd.read_csv('./transferred_well/transfer5_9.csv').iloc[day_num-1,0]\n",
    "tw_list = [tw1,tw2]\n",
    "\n",
    "plate_type = int(plate_info.loc[int(strain_list[0])].iloc[day_num-1])\n",
    "plot_OD(strain_list,strain_name,tw_list,transfer=transfer,plate_num=plate_type,file_num=strain_list[0])"
   ]
  },
  {
   "cell_type": "code",
   "execution_count": null,
   "metadata": {
    "scrolled": true
   },
   "outputs": [],
   "source": [
    "x = np.linspace(1,24,24)\n",
    "strain_list = ['06']\n",
    "strain_name = 'KME5'\n",
    "transfer = 'TET'\n",
    "\n",
    "# loc of transferred well\n",
    "tw3 = pd.read_csv('./transferred_well/transfer6_1.csv').iloc[day_num-1,0]\n",
    "tw4 = pd.read_csv('./transferred_well/transfer6_9.csv').iloc[day_num-1,0]\n",
    "tw_list = [tw3,tw4]\n",
    "\n",
    "plate_type = int(plate_info.loc[int(strain_list[0])].iloc[day_num-1])\n",
    "plot_OD(strain_list,strain_name,tw_list,transfer=transfer,plate_num=plate_type,file_num=strain_list[0])"
   ]
  },
  {
   "cell_type": "code",
   "execution_count": null,
   "metadata": {
    "scrolled": true
   },
   "outputs": [],
   "source": [
    "x = np.linspace(1,24,24)\n",
    "strain_list = ['07']\n",
    "strain_name = 'Parent'\n",
    "transfer = 'KM'\n",
    "\n",
    "# loc of transferred well\n",
    "tw_list = []\n",
    "for num in strain_list:\n",
    "    tw1 = pd.read_csv('./transferred_well/transfer'+num[1:]+'_2.csv').iloc[day_num-1,0]  \n",
    "    tw2 = pd.read_csv('./transferred_well/transfer'+num[1:]+'_10.csv').iloc[day_num-1,0]\n",
    "    tw_list.append(tw1)\n",
    "    tw_list.append(tw2)\n",
    "    \n",
    "plate_type = int(plate_info.loc[int(strain_list[0])].iloc[day_num-1])\n",
    "plot_OD(strain_list,strain_name,tw_list,transfer=transfer,plate_num=plate_type,file_num=strain_list[0])"
   ]
  },
  {
   "cell_type": "code",
   "execution_count": null,
   "metadata": {
    "scrolled": true
   },
   "outputs": [],
   "source": [
    "x = np.linspace(1,24,24)\n",
    "strain_list = ['08']\n",
    "strain_name = 'Parent'\n",
    "transfer = 'KM'\n",
    "\n",
    "# loc of transferred well\n",
    "tw_list = []\n",
    "for num in strain_list:\n",
    "    tw1 = pd.read_csv('./transferred_well/transfer'+num[1:]+'_2.csv').iloc[day_num-1,0]  \n",
    "    tw2 = pd.read_csv('./transferred_well/transfer'+num[1:]+'_10.csv').iloc[day_num-1,0]\n",
    "    tw_list.append(tw1)\n",
    "    tw_list.append(tw2)\n",
    "    \n",
    "plate_type = int(plate_info.loc[int(strain_list[0])].iloc[day_num-1])\n",
    "plot_OD(strain_list,strain_name,tw_list,transfer=transfer,plate_num=plate_type,file_num=strain_list[0])"
   ]
  },
  {
   "cell_type": "code",
   "execution_count": null,
   "metadata": {
    "scrolled": true
   },
   "outputs": [],
   "source": [
    "x = np.linspace(1,24,24)\n",
    "strain_list = ['09']\n",
    "strain_name = 'TETE4'\n",
    "transfer = 'KM'\n",
    "\n",
    "# loc of transferred well\n",
    "tw1 = pd.read_csv('./transferred_well/transfer9_2.csv').iloc[day_num-1,0]  \n",
    "tw2 = pd.read_csv('./transferred_well/transfer9_10.csv').iloc[day_num-1,0]\n",
    "\n",
    "tw_list = [tw1,tw2]\n",
    "\n",
    "plate_type = int(plate_info.loc[int(strain_list[0])].iloc[day_num-1])\n",
    "plot_OD(strain_list,strain_name,tw_list,transfer=transfer,plate_num=plate_type,file_num=strain_list[0])"
   ]
  },
  {
   "cell_type": "code",
   "execution_count": null,
   "metadata": {
    "scrolled": true
   },
   "outputs": [],
   "source": [
    "x = np.linspace(1,24,24)\n",
    "strain_list = ['10']\n",
    "strain_name = 'TETE4'\n",
    "transfer = 'KM'\n",
    "\n",
    "# loc of transferred well\n",
    "tw3 = pd.read_csv('./transferred_well/transfer10_2.csv').iloc[day_num-1,0]  \n",
    "tw4 = pd.read_csv('./transferred_well/transfer10_10.csv').iloc[day_num-1,0]\n",
    "tw_list = [tw3,tw4]\n",
    "\n",
    "plate_type = int(plate_info.loc[int(strain_list[0])].iloc[day_num-1])\n",
    "plot_OD(strain_list,strain_name,tw_list,transfer=transfer,plate_num=plate_type,file_num=strain_list[0])"
   ]
  },
  {
   "cell_type": "code",
   "execution_count": null,
   "metadata": {
    "scrolled": true
   },
   "outputs": [],
   "source": [
    "x = np.linspace(1,24,24)\n",
    "strain_list = ['11']\n",
    "strain_name = 'TETE6'\n",
    "transfer = 'KM'\n",
    "\n",
    "# loc of transferred well\n",
    "tw_list = []\n",
    "for num in strain_list:\n",
    "    tw1 = pd.read_csv('./transferred_well/transfer'+num+'_2.csv').iloc[day_num-1,0]  \n",
    "    tw2 = pd.read_csv('./transferred_well/transfer'+num+'_10.csv').iloc[day_num-1,0]\n",
    "    tw_list.append(tw1)\n",
    "    tw_list.append(tw2)\n",
    "\n",
    "plate_type = int(plate_info.loc[int(strain_list[0])].iloc[day_num-1])\n",
    "plot_OD(strain_list,strain_name,tw_list,transfer=transfer,plate_num=plate_type,file_num=strain_list[0])"
   ]
  },
  {
   "cell_type": "code",
   "execution_count": null,
   "metadata": {
    "scrolled": true
   },
   "outputs": [],
   "source": [
    "x = np.linspace(1,24,24)\n",
    "strain_list = ['12']\n",
    "strain_name = 'TETE6'\n",
    "transfer = 'KM'\n",
    "\n",
    "# loc of transferred well\n",
    "tw_list = []\n",
    "for num in strain_list:\n",
    "    tw1 = pd.read_csv('./transferred_well/transfer'+num+'_2.csv').iloc[day_num-1,0]  \n",
    "    tw2 = pd.read_csv('./transferred_well/transfer'+num+'_10.csv').iloc[day_num-1,0]\n",
    "    tw_list.append(tw1)\n",
    "    tw_list.append(tw2)\n",
    "\n",
    "plate_type = int(plate_info.loc[int(strain_list[0])].iloc[day_num-1])\n",
    "plot_OD(strain_list,strain_name,tw_list,transfer=transfer,plate_num=plate_type,file_num=strain_list[0])"
   ]
  },
  {
   "cell_type": "code",
   "execution_count": null,
   "metadata": {
    "scrolled": true
   },
   "outputs": [],
   "source": [
    "x = np.linspace(1,24,24)\n",
    "strain_list = ['13']\n",
    "strain_name = 'NFLXE4'\n",
    "transfer = 'KM'\n",
    "\n",
    "# loc of transferred well\n",
    "tw_list = []\n",
    "for num in strain_list:\n",
    "    tw1 = pd.read_csv('./transferred_well/transfer'+num+'_2.csv').iloc[day_num-1,0]  \n",
    "    tw2 = pd.read_csv('./transferred_well/transfer'+num+'_10.csv').iloc[day_num-1,0]\n",
    "    tw_list.append(tw1)\n",
    "    tw_list.append(tw2)\n",
    "\n",
    "plate_type = int(plate_info.loc[int(strain_list[0])].iloc[day_num-1])\n",
    "plot_OD(strain_list,strain_name,tw_list,transfer=transfer,plate_num=plate_type,file_num=strain_list[0])"
   ]
  },
  {
   "cell_type": "code",
   "execution_count": null,
   "metadata": {
    "scrolled": true
   },
   "outputs": [],
   "source": [
    "x = np.linspace(1,24,24)\n",
    "strain_list = ['14']\n",
    "strain_name = 'NFLXE4'\n",
    "transfer = 'KM'\n",
    "\n",
    "# loc of transferred well\n",
    "tw_list = []\n",
    "for num in strain_list:\n",
    "    tw1 = pd.read_csv('./transferred_well/transfer'+num+'_2.csv').iloc[day_num-1,0]  \n",
    "    tw2 = pd.read_csv('./transferred_well/transfer'+num+'_10.csv').iloc[day_num-1,0]\n",
    "    tw_list.append(tw1)\n",
    "    tw_list.append(tw2)\n",
    "\n",
    "plate_type = int(plate_info.loc[int(strain_list[0])].iloc[day_num-1])\n",
    "plot_OD(strain_list,strain_name,tw_list,transfer=transfer,plate_num=plate_type,file_num=strain_list[0])"
   ]
  },
  {
   "cell_type": "code",
   "execution_count": null,
   "metadata": {
    "scrolled": true
   },
   "outputs": [],
   "source": [
    "x = np.linspace(1,24,24)\n",
    "strain_list = ['15']\n",
    "strain_name = 'NFLXE6'\n",
    "transfer = 'KM'\n",
    "\n",
    "# loc of transferred well\n",
    "tw_list = []\n",
    "for num in strain_list:\n",
    "    tw1 = pd.read_csv('./transferred_well/transfer'+num+'_2.csv').iloc[day_num-1,0]  \n",
    "    tw2 = pd.read_csv('./transferred_well/transfer'+num+'_10.csv').iloc[day_num-1,0]\n",
    "    tw_list.append(tw1)\n",
    "    tw_list.append(tw2)\n",
    "\n",
    "plate_type = int(plate_info.loc[int(strain_list[0])].iloc[day_num-1])\n",
    "plot_OD(strain_list,strain_name,tw_list,transfer=transfer,plate_num=plate_type,file_num=strain_list[0])"
   ]
  },
  {
   "cell_type": "code",
   "execution_count": null,
   "metadata": {
    "scrolled": true
   },
   "outputs": [],
   "source": [
    "x = np.linspace(1,24,24)\n",
    "strain_list = ['16']\n",
    "strain_name = 'NFLXE6'\n",
    "transfer = 'KM'\n",
    "\n",
    "# loc of transferred well\n",
    "tw_list = []\n",
    "for num in strain_list:\n",
    "    tw1 = pd.read_csv('./transferred_well/transfer'+num+'_2.csv').iloc[day_num-1,0]  \n",
    "    tw2 = pd.read_csv('./transferred_well/transfer'+num+'_10.csv').iloc[day_num-1,0]\n",
    "    tw_list.append(tw1)\n",
    "    tw_list.append(tw2)\n",
    "\n",
    "plate_type = int(plate_info.loc[int(strain_list[0])].iloc[day_num-1])\n",
    "plot_OD(strain_list,strain_name,tw_list,transfer=transfer,plate_num=plate_type,file_num=strain_list[0])"
   ]
  },
  {
   "cell_type": "code",
   "execution_count": null,
   "metadata": {
    "scrolled": true
   },
   "outputs": [],
   "source": [
    "x = np.linspace(1,24,24)\n",
    "strain_list = ['17']\n",
    "strain_name = 'Parent'\n",
    "transfer = 'NFLX'\n",
    "plate_num = 1\n",
    "\n",
    "# loc of transferred well\n",
    "tw_list = []\n",
    "for num in strain_list:\n",
    "    tw1 = pd.read_csv('./transferred_well/transfer'+num+'_3.csv').iloc[day_num-1,0]  \n",
    "    tw2 = pd.read_csv('./transferred_well/transfer'+num+'_11.csv').iloc[day_num-1,0]\n",
    "    tw_list.append(tw1)\n",
    "    tw_list.append(tw2)\n",
    "\n",
    "plate_type = int(plate_info.loc[int(strain_list[0])].iloc[day_num-1])\n",
    "plot_OD(strain_list,strain_name,tw_list,transfer=transfer,plate_num=plate_type,file_num=strain_list[0])"
   ]
  },
  {
   "cell_type": "code",
   "execution_count": null,
   "metadata": {
    "scrolled": true
   },
   "outputs": [],
   "source": [
    "x = np.linspace(1,24,24)\n",
    "strain_list = ['18']\n",
    "strain_name = 'Parent'\n",
    "transfer = 'NFLX'\n",
    "plate_num = 1\n",
    "\n",
    "# loc of transferred well\n",
    "tw_list = []\n",
    "for num in strain_list:\n",
    "    tw1 = pd.read_csv('./transferred_well/transfer'+num+'_3.csv').iloc[day_num-1,0]  \n",
    "    tw2 = pd.read_csv('./transferred_well/transfer'+num+'_11.csv').iloc[day_num-1,0]\n",
    "    tw_list.append(tw1)\n",
    "    tw_list.append(tw2)\n",
    "\n",
    "plate_type = int(plate_info.loc[int(strain_list[0])].iloc[day_num-1])\n",
    "plot_OD(strain_list,strain_name,tw_list,transfer=transfer,plate_num=plate_type,file_num=strain_list[0])"
   ]
  },
  {
   "cell_type": "code",
   "execution_count": null,
   "metadata": {
    "scrolled": true
   },
   "outputs": [],
   "source": [
    "x = np.linspace(1,24,24)\n",
    "strain_list = ['19']\n",
    "strain_name = 'KME1'\n",
    "transfer = 'NFLX'\n",
    "plate_num = 2\n",
    "\n",
    "# loc of transferred well\n",
    "tw_list = []\n",
    "for num in strain_list:\n",
    "    tw1 = pd.read_csv('./transferred_well/transfer'+num+'_3.csv').iloc[day_num-1,0]  \n",
    "    tw2 = pd.read_csv('./transferred_well/transfer'+num+'_11.csv').iloc[day_num-1,0]\n",
    "    tw_list.append(tw1)\n",
    "    tw_list.append(tw2)\n",
    "\n",
    "plate_type = int(plate_info.loc[int(strain_list[0])].iloc[day_num-1])\n",
    "plot_OD(strain_list,strain_name,tw_list,transfer=transfer,plate_num=plate_type,file_num=strain_list[0])"
   ]
  },
  {
   "cell_type": "code",
   "execution_count": null,
   "metadata": {
    "scrolled": true
   },
   "outputs": [],
   "source": [
    "x = np.linspace(1,24,24)\n",
    "strain_list = ['20']\n",
    "strain_name = 'KME1'\n",
    "transfer = 'NFLX'\n",
    "plate_num = 2\n",
    "\n",
    "# loc of transferred well\n",
    "tw_list = []\n",
    "for num in strain_list:\n",
    "    tw1 = pd.read_csv('./transferred_well/transfer'+num+'_3.csv').iloc[day_num-1,0]  \n",
    "    tw2 = pd.read_csv('./transferred_well/transfer'+num+'_11.csv').iloc[day_num-1,0]\n",
    "    tw_list.append(tw1)\n",
    "    tw_list.append(tw2)\n",
    "\n",
    "plate_type = int(plate_info.loc[int(strain_list[0])].iloc[day_num-1])\n",
    "plot_OD(strain_list,strain_name,tw_list,transfer=transfer,plate_num=plate_type,file_num=strain_list[0])"
   ]
  },
  {
   "cell_type": "code",
   "execution_count": null,
   "metadata": {
    "scrolled": true
   },
   "outputs": [],
   "source": [
    "x = np.linspace(1,24,24)\n",
    "strain_list = ['21']\n",
    "strain_name = 'KME5'\n",
    "transfer = 'NFLX'\n",
    "plate_num = 2\n",
    "\n",
    "# loc of transferred well\n",
    "tw_list = []\n",
    "for num in strain_list:\n",
    "    tw1 = pd.read_csv('./transferred_well/transfer'+num+'_3.csv').iloc[day_num-1,0]  \n",
    "    tw2 = pd.read_csv('./transferred_well/transfer'+num+'_11.csv').iloc[day_num-1,0]\n",
    "    tw_list.append(tw1)\n",
    "    tw_list.append(tw2)\n",
    "\n",
    "plate_type = int(plate_info.loc[int(strain_list[0])].iloc[day_num-1])\n",
    "plot_OD(strain_list,strain_name,tw_list,transfer=transfer,plate_num=plate_type,file_num=strain_list[0])"
   ]
  },
  {
   "cell_type": "code",
   "execution_count": null,
   "metadata": {
    "scrolled": true
   },
   "outputs": [],
   "source": [
    "x = np.linspace(1,24,24)\n",
    "strain_list = ['22']\n",
    "strain_name = 'KME5'\n",
    "transfer = 'NFLX'\n",
    "plate_num = 2\n",
    "\n",
    "# loc of transferred well\n",
    "tw_list = []\n",
    "for num in strain_list:\n",
    "    tw1 = pd.read_csv('./transferred_well/transfer'+num+'_3.csv').iloc[day_num-1,0]  \n",
    "    tw2 = pd.read_csv('./transferred_well/transfer'+num+'_11.csv').iloc[day_num-1,0]\n",
    "    tw_list.append(tw1)\n",
    "    tw_list.append(tw2)\n",
    "\n",
    "plate_type = int(plate_info.loc[int(strain_list[0])].iloc[day_num-1])\n",
    "plot_OD(strain_list,strain_name,tw_list,transfer=transfer,plate_num=plate_type,file_num=strain_list[0])"
   ]
  },
  {
   "cell_type": "code",
   "execution_count": null,
   "metadata": {
    "scrolled": true
   },
   "outputs": [],
   "source": [
    "x = np.linspace(1,24,24)\n",
    "strain_list = ['23']\n",
    "strain_name = 'Parent'\n",
    "transfer = 'M9'\n",
    "plate_num = 1\n",
    "\n",
    "# loc of transferred well\n",
    "tw_list = []\n",
    "for num in strain_list:\n",
    "    tw1 = pd.read_csv('./transferred_well/transfer'+num+'_1.csv').iloc[day_num-1,0]  \n",
    "    tw2 = pd.read_csv('./transferred_well/transfer'+num+'_9.csv').iloc[day_num-1,0]\n",
    "    tw_list.append(tw1)\n",
    "    tw_list.append(tw2)\n",
    "\n",
    "plate_type = int(plate_info.loc[int(strain_list[0])].iloc[day_num-1])\n",
    "plot_OD(strain_list,strain_name,tw_list,transfer=transfer,plate_num=plate_type,file_num=strain_list[0])"
   ]
  },
  {
   "cell_type": "code",
   "execution_count": null,
   "metadata": {
    "scrolled": true
   },
   "outputs": [],
   "source": [
    "x = np.linspace(1,24,24)\n",
    "strain_list = ['24']\n",
    "strain_name = 'Parent'\n",
    "transfer = 'M9'\n",
    "plate_num = 1\n",
    "\n",
    "# loc of transferred well\n",
    "tw_list = []\n",
    "for num in strain_list:\n",
    "    tw1 = pd.read_csv('./transferred_well/transfer'+num+'_1.csv').iloc[day_num-1,0]  \n",
    "    tw2 = pd.read_csv('./transferred_well/transfer'+num+'_9.csv').iloc[day_num-1,0]\n",
    "    tw_list.append(tw1)\n",
    "    tw_list.append(tw2)\n",
    "\n",
    "plate_type = int(plate_info.loc[int(strain_list[0])].iloc[day_num-1])\n",
    "plot_OD(strain_list,strain_name,tw_list,transfer=transfer,plate_num=plate_type,file_num=strain_list[0])"
   ]
  },
  {
   "cell_type": "code",
   "execution_count": null,
   "metadata": {
    "scrolled": true
   },
   "outputs": [],
   "source": [
    "x = np.linspace(1,24,24)\n",
    "strain_list = ['25']\n",
    "strain_name = 'TETE4'\n",
    "transfer = 'M9'\n",
    "plate_num = 3\n",
    "\n",
    "# loc of transferred well\n",
    "tw_list = []\n",
    "for num in strain_list:\n",
    "    tw1 = pd.read_csv('./transferred_well/transfer'+num+'_1.csv').iloc[day_num-1,0]  \n",
    "    tw2 = pd.read_csv('./transferred_well/transfer'+num+'_9.csv').iloc[day_num-1,0]\n",
    "    tw_list.append(tw1)\n",
    "    tw_list.append(tw2)\n",
    "\n",
    "plate_type = int(plate_info.loc[int(strain_list[0])].iloc[day_num-1])\n",
    "plot_OD(strain_list,strain_name,tw_list,transfer=transfer,plate_num=plate_type,file_num=strain_list[0])"
   ]
  },
  {
   "cell_type": "code",
   "execution_count": null,
   "metadata": {
    "scrolled": true
   },
   "outputs": [],
   "source": [
    "x = np.linspace(1,24,24)\n",
    "strain_list = ['26']\n",
    "strain_name = 'TETE6'\n",
    "transfer = 'M9'\n",
    "plate_num = 3\n",
    "\n",
    "# loc of transferred well\n",
    "tw_list = []\n",
    "for num in strain_list:\n",
    "    tw1 = pd.read_csv('./transferred_well/transfer'+num+'_1.csv').iloc[day_num-1,0]  \n",
    "    tw2 = pd.read_csv('./transferred_well/transfer'+num+'_9.csv').iloc[day_num-1,0]\n",
    "    tw_list.append(tw1)\n",
    "    tw_list.append(tw2)\n",
    "\n",
    "plate_type = int(plate_info.loc[int(strain_list[0])].iloc[day_num-1])\n",
    "plot_OD(strain_list,strain_name,tw_list,transfer=transfer,plate_num=plate_type,file_num=strain_list[0])"
   ]
  },
  {
   "cell_type": "code",
   "execution_count": null,
   "metadata": {
    "scrolled": true
   },
   "outputs": [],
   "source": [
    "x = np.linspace(1,24,24)\n",
    "strain_list = ['27']\n",
    "strain_name = 'KM1'\n",
    "transfer = 'M9'\n",
    "plate_num = 2\n",
    "\n",
    "# loc of transferred well\n",
    "tw_list = []\n",
    "for num in strain_list:\n",
    "    tw1 = pd.read_csv('./transferred_well/transfer'+num+'_1.csv').iloc[day_num-1,0]  \n",
    "    tw2 = pd.read_csv('./transferred_well/transfer'+num+'_9.csv').iloc[day_num-1,0]\n",
    "    tw_list.append(tw1)\n",
    "    tw_list.append(tw2)\n",
    "\n",
    "plate_type = int(plate_info.loc[int(strain_list[0])].iloc[day_num-1])\n",
    "plot_OD(strain_list,strain_name,tw_list,transfer=transfer,plate_num=plate_type,file_num=strain_list[0])"
   ]
  },
  {
   "cell_type": "code",
   "execution_count": null,
   "metadata": {},
   "outputs": [],
   "source": [
    "x = np.linspace(1,24,24)\n",
    "strain_list = ['28']\n",
    "strain_name = 'KM5'\n",
    "transfer = 'M9'\n",
    "plate_num = 2\n",
    "\n",
    "# loc of transferred well\n",
    "tw_list = []\n",
    "for num in strain_list:\n",
    "    tw1 = pd.read_csv('./transferred_well/transfer'+num+'_1.csv').iloc[day_num-1,0]  \n",
    "    tw2 = pd.read_csv('./transferred_well/transfer'+num+'_9.csv').iloc[day_num-1,0]\n",
    "    tw_list.append(tw1)\n",
    "    tw_list.append(tw2)\n",
    "\n",
    "plate_type = int(plate_info.loc[int(strain_list[0])].iloc[day_num-1])\n",
    "plot_OD(strain_list,strain_name,tw_list,transfer=transfer,plate_num=plate_type,file_num=strain_list[0])"
   ]
  },
  {
   "cell_type": "code",
   "execution_count": null,
   "metadata": {},
   "outputs": [],
   "source": [
    "x = np.linspace(1,24,24)\n",
    "strain_list = ['29']\n",
    "strain_name = 'NFLXE4'\n",
    "transfer = 'M9'\n",
    "plate_num = 3\n",
    "\n",
    "# loc of transferred well\n",
    "tw_list = []\n",
    "for num in strain_list:\n",
    "    tw1 = pd.read_csv('./transferred_well/transfer'+num+'_1.csv').iloc[day_num-1,0]  \n",
    "    tw2 = pd.read_csv('./transferred_well/transfer'+num+'_9.csv').iloc[day_num-1,0]\n",
    "    tw_list.append(tw1)\n",
    "    tw_list.append(tw2)\n",
    "\n",
    "plate_type = int(plate_info.loc[int(strain_list[0])].iloc[day_num-1])\n",
    "plot_OD(strain_list,strain_name,tw_list,transfer=transfer,plate_num=plate_type,file_num=strain_list[0])"
   ]
  },
  {
   "cell_type": "code",
   "execution_count": null,
   "metadata": {},
   "outputs": [],
   "source": [
    "x = np.linspace(1,24,24)\n",
    "strain_list = ['30']\n",
    "strain_name = 'NFLXE6'\n",
    "transfer = 'M9'\n",
    "plate_num = 3\n",
    "\n",
    "# loc of transferred well\n",
    "tw_list = []\n",
    "for num in strain_list:\n",
    "    tw1 = pd.read_csv('./transferred_well/transfer'+num+'_1.csv').iloc[day_num-1,0]  \n",
    "    tw2 = pd.read_csv('./transferred_well/transfer'+num+'_9.csv').iloc[day_num-1,0]\n",
    "    tw_list.append(tw1)\n",
    "    tw_list.append(tw2)\n",
    "\n",
    "plate_type = int(plate_info.loc[int(strain_list[0])].iloc[day_num-1])\n",
    "plot_OD(strain_list,strain_name,tw_list,transfer=transfer,plate_num=plate_type,file_num=strain_list[0])"
   ]
  },
  {
   "cell_type": "code",
   "execution_count": null,
   "metadata": {},
   "outputs": [],
   "source": [
    "import PyPDF2\n",
    "\n",
    "merger = PyPDF2.PdfFileMerger()\n",
    "for i in range(1,31):\n",
    "    merger.append('./plots/individual/'+str(i)+'.pdf')\n",
    "\n",
    "merger.write('./plots/all_OD.pdf')\n",
    "merger.close()"
   ]
  },
  {
   "cell_type": "code",
   "execution_count": null,
   "metadata": {},
   "outputs": [],
   "source": [
    "x = np.linspace(1,24,24)\n",
    "strain_list = ['25','26','29','30']\n",
    "strain_name = 'TETE4,TETE6,NFLXE4,NFLXE6'\n",
    "transfer = 'M9'\n",
    "plate_num = 3\n",
    "\n",
    "cmap = plt.get_cmap(\"tab10\")\n",
    "\n",
    "def plot_OD(strain_list,strain_name,tw_list,transfer,plate_num,file_num,day=str(day_num)):\n",
    "        plt.subplots(4,2,figsize=(16,24))\n",
    "        \n",
    "        plt.subplot(4,2,1)\n",
    "        for n,i in enumerate(strain_list):\n",
    "            df = pd.read_csv('./OD_data/OD_Result_0'+str(day)+'_'+str(i)+'.csv',\n",
    "                             usecols=(3,5),index_col=0).iloc[:384,:]\n",
    "            plt.plot(x,df[df.index.str.contains('A')],color=cmap(n))\n",
    "            plt.plot(x,df[df.index.str.contains('B')],color=cmap(n))\n",
    "            if transfer=='TET':\n",
    "                for tw in tw_list:\n",
    "                    plt.plot(tw*np.ones(100),np.linspace(0.04,0.2,100),color='gray',alpha=0.3)\n",
    "        plt.ylim(0.025,0.23)\n",
    "        plt.title(strain_name+' in TET, plate_num = '+str(plate_num))\n",
    "\n",
    "        plt.subplot(4,2,2)\n",
    "        for n,i in enumerate(strain_list):\n",
    "            df = pd.read_csv('./OD_data/OD_Result_0'+str(day)+'_'+str(i)+'.csv',\n",
    "                             usecols=(3,5),index_col=0).iloc[:384,:]\n",
    "            plt.plot(x,df[df.index.str.contains('C')],color=cmap(n))\n",
    "            plt.plot(x,df[df.index.str.contains('D')],color=cmap(n))\n",
    "            if transfer=='KM':\n",
    "                for tw in tw_list:\n",
    "                    plt.plot(tw*np.ones(100),np.linspace(0.04,0.2,100),color='gray',alpha=0.3)\n",
    "        plt.ylim(0.025,0.23)\n",
    "        plt.title(strain_name+' in KM, plate_num = '+str(plate_num))\n",
    "        \n",
    "        plt.subplot(4,2,3)\n",
    "        for n,i in enumerate(strain_list):\n",
    "            df = pd.read_csv('./OD_data/OD_Result_0'+str(day)+'_'+str(i)+'.csv',\n",
    "                             usecols=(3,5),index_col=0).iloc[:384,:]\n",
    "            plt.plot(x,df[df.index.str.contains('E')],color=cmap(n))\n",
    "            plt.plot(x,df[df.index.str.contains('F')],color=cmap(n))\n",
    "            if transfer=='NFLX':\n",
    "                for tw in tw_list:\n",
    "                    plt.plot(tw*np.ones(100),np.linspace(0.04,0.2,100),color='gray',alpha=0.3)\n",
    "        plt.ylim(0.025,0.23)\n",
    "        plt.title(strain_name+' in NFLX, plate_num = '+str(plate_num))\n",
    "        \n",
    "        plt.subplot(4,2,4)\n",
    "        for n,i in enumerate(strain_list):\n",
    "            df = pd.read_csv('./OD_data/OD_Result_0'+str(day)+'_'+str(i)+'.csv',\n",
    "                             usecols=(3,5),index_col=0).iloc[:384,:]\n",
    "            plt.plot(x,df[df.index.str.contains('G')],color=cmap(n))\n",
    "            plt.plot(x,df[df.index.str.contains('H')],color=cmap(n))\n",
    "        plt.ylim(0.025,0.23)\n",
    "        plt.title(strain_name+' in SS, plate_num = '+str(plate_num))\n",
    "        \n",
    "        plt.subplot(4,2,5)\n",
    "        for n,i in enumerate(strain_list):\n",
    "            df = pd.read_csv('./OD_data/OD_Result_0'+str(day)+'_'+str(i)+'.csv',\n",
    "                             usecols=(3,5),index_col=0).iloc[:384,:]\n",
    "            plt.plot(x,df[df.index.str.contains('I')],color=cmap(n))\n",
    "            plt.plot(x,df[df.index.str.contains('J')],color=cmap(n))\n",
    "        plt.ylim(0.025,0.23)\n",
    "        plt.title(strain_name+' in PLM, plate_num = '+str(plate_num))\n",
    "        \n",
    "        plt.subplot(4,2,6)\n",
    "        for n,i in enumerate(strain_list):\n",
    "            df = pd.read_csv('./OD_data/OD_Result_0'+str(day)+'_'+str(i)+'.csv',\n",
    "                             usecols=(3,5),index_col=0).iloc[:384,:]\n",
    "            plt.plot(x,df[df.index.str.contains('K')],color=cmap(n))\n",
    "            plt.plot(x,df[df.index.str.contains('L')],color=cmap(n))\n",
    "        plt.ylim(0.025,0.23)\n",
    "        plt.title(strain_name+' in NQO, plate_num = '+str(plate_num))\n",
    "        \n",
    "        plt.subplot(4,2,7)\n",
    "        for n,i in enumerate(strain_list):\n",
    "            df = pd.read_csv('./OD_data/OD_Result_0'+str(day)+'_'+str(i)+'.csv',\n",
    "                             usecols=(3,5),index_col=0).iloc[:384,:]\n",
    "            plt.plot(x,df[df.index.str.contains('M')],color=cmap(n))\n",
    "            plt.plot(x,df[df.index.str.contains('N')],color=cmap(n))\n",
    "        plt.ylim(0.025,0.23)\n",
    "        plt.title(strain_name+' in SDC, plate_num = '+str(plate_num))\n",
    "        \n",
    "        plt.subplot(4,2,8)\n",
    "        for n,i in enumerate(strain_list):\n",
    "            df = pd.read_csv('./OD_data/OD_Result_0'+str(day)+'_'+str(i)+'.csv',\n",
    "                             usecols=(3,5),index_col=0).iloc[:384,:]\n",
    "            plt.plot(x,df[df.index.str.contains('O')],color=cmap(n))\n",
    "            plt.plot(x,df[df.index.str.contains('P')],color=cmap(n))\n",
    "        plt.ylim(0.025,0.23)\n",
    "        plt.title(strain_name+' in MMC, plate_num = '+str(plate_num))\n",
    "        \n",
    "        plt.savefig('./plots/'+str(file_num)+'.pdf',dpi=100,bbox_inches='tight')\n",
    "        #plt.savefig('./plots/'+strain_name+'_'+transfer+'_dif_col.png',dpi=50,bbox_inches='tight')\n",
    "\n",
    "plot_OD(strain_list,strain_name,tw_list,transfer=transfer,plate_num=plate_num,file_num=31)"
   ]
  },
  {
   "cell_type": "code",
   "execution_count": null,
   "metadata": {},
   "outputs": [],
   "source": [
    "x = np.linspace(1,24,24)\n",
    "strain_list = ['27','28']\n",
    "strain_name = 'KME1,KME5'\n",
    "transfer = 'M9'\n",
    "plate_num = 2\n",
    "\n",
    "plot_OD(strain_list,strain_name,tw_list,transfer=transfer,plate_num=plate_num,file_num=32)"
   ]
  },
  {
   "cell_type": "code",
   "execution_count": null,
   "metadata": {},
   "outputs": [],
   "source": []
  }
 ],
 "metadata": {
  "kernelspec": {
   "display_name": "Python 3",
   "language": "python",
   "name": "python3"
  },
  "language_info": {
   "codemirror_mode": {
    "name": "ipython",
    "version": 3
   },
   "file_extension": ".py",
   "mimetype": "text/x-python",
   "name": "python",
   "nbconvert_exporter": "python",
   "pygments_lexer": "ipython3",
   "version": "3.7.0"
  },
  "varInspector": {
   "cols": {
    "lenName": 16,
    "lenType": 16,
    "lenVar": 40
   },
   "kernels_config": {
    "python": {
     "delete_cmd_postfix": "",
     "delete_cmd_prefix": "del ",
     "library": "var_list.py",
     "varRefreshCmd": "print(var_dic_list())"
    },
    "r": {
     "delete_cmd_postfix": ") ",
     "delete_cmd_prefix": "rm(",
     "library": "var_list.r",
     "varRefreshCmd": "cat(var_dic_list()) "
    }
   },
   "types_to_exclude": [
    "module",
    "function",
    "builtin_function_or_method",
    "instance",
    "_Feature"
   ],
   "window_display": false
  }
 },
 "nbformat": 4,
 "nbformat_minor": 2
}
